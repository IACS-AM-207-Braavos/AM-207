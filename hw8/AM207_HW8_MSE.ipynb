{
 "cells": [
  {
   "cell_type": "markdown",
   "metadata": {},
   "source": [
    "# Homework 8\n",
    "\n",
    "**Harvard University**<br>\n",
    "**Fall 2018**<br>\n",
    "**Instructors: Rahul Dave**<br>\n",
    "**Due Date:** Saturday, November 3rd, 2018 at 11:59pm\n",
    "\n",
    "**Instructions:**\n",
    "\n",
    "- Upload your final answers in the form of a Jupyter notebook containing all work to Canvas.\n",
    "\n",
    "- Structure your notebook and your work to maximize readability."
   ]
  },
  {
   "cell_type": "markdown",
   "metadata": {},
   "source": [
    "### Collaborators\n",
    "\n",
    "** Place the name of everyone who's submitting this assignment here**"
   ]
  },
  {
   "cell_type": "markdown",
   "metadata": {},
   "source": [
    "<div class=\"answer-separator\">\n",
    "------------------------\n",
    "</div>"
   ]
  },
  {
   "cell_type": "code",
   "execution_count": 1,
   "metadata": {
    "collapsed": true
   },
   "outputs": [],
   "source": [
    "import numpy as np\n",
    "import scipy.stats\n",
    "import scipy.special\n",
    "\n",
    "import matplotlib\n",
    "import matplotlib.pyplot as plt\n",
    "import matplotlib.mlab as mlab\n",
    "from matplotlib import cm\n",
    "\n",
    "import pandas as pd\n",
    "import seaborn as sns\n",
    "\n",
    "%matplotlib inline"
   ]
  },
  {
   "cell_type": "markdown",
   "metadata": {},
   "source": [
    "## Question 1: In the AM207 Nursery We Help Canadians Smoke Trees with Purple Stuff"
   ]
  },
  {
   "cell_type": "markdown",
   "metadata": {},
   "source": [
    "**Some coding required**\n",
    "\n",
    "**This is part 1 of a 2 part problem.  You'll see the second part in a later problem set...**\n",
    "\n",
    "A plant nursery in Cambridge is exprimentally cross-breeding two types of hibiscus flowers: blue and pink. The goal is to create an exotic flower whose petals are pink with a ring of blue on each. \n",
    "\n",
    "There are four types of child plant that can result from this cross-breeding: \n",
    "\n",
    "  - Type 1: blue petals\n",
    "  - Type 2: pink petals \n",
    "  - Type 3: purple petals\n",
    "  - Type 4: pink petals with a blue ring on each (the desired effect). \n",
    "\n",
    "Out of 197 initial cross-breedings, the nursery obtained the following distribution over the four types of child plants: \n",
    "\n",
    "$$Y = (y_1, y_2, y_3, y_4) = (125, 18, 20, 34)$$\n",
    "\n",
    "where $y_i$ represents the number of child plants that are of type $i$.\n",
    "\n",
    "The nursery then consulted a famed Harvard plant geneticist, who informed them that the probability of obtaining each type of child plant in any single breeding experiment is as follows:\n",
    "\n",
    "$$ \\frac{\\theta+2}{4}, \\frac{1-\\theta}{4}, \\frac{1-\\theta}{4}, \\frac{\\theta}{4}.$$\n",
    "\n",
    "Unfortunately, the geneticist was unable to specify the quantity $\\theta$.\n",
    "\n",
    "Clearly, the nursery is interested in understanding how many cross-breeding they must perform, on average, in order to obtain a certain number of child plants with the exotic blue rings. To do this they must be able to compute $\\theta$. \n",
    "\n",
    "The owners of the nursery, being top students in AM207, decided to model the experiment in hopes of discovering $\\theta$ using the results from their 197 initial experiments. \n",
    "\n",
    "They chose to model the observed data using a multinomial model and thus calculated the likelihood to be:\n",
    "\n",
    "$$ p(y  \\vert  \\theta) \\propto (2+\\theta)^{y_1} (1-\\theta)^{y_2+y_3}  \\, \\theta^{y_4} $$\n",
    "\n",
    "\n",
    "The nursery owners decided to augment their model and hopefully obtain a friendlier looking distribution that allows for easy EM based maximum-likelihood finding and sampling (which you will do in next week's homework).\n",
    "\n",
    "They augment the data with a new variable $z$ such that:\n",
    "\n",
    "$$z + (y_1 - z) = y_1.$$\n",
    "\n",
    "That is, using the latent variable $z$, the number of type I child plants $y_1$ can be broken into two subtypes. Let the probability of obtaining the two subtype be $1/2$ and $\\theta/4$, respectively. $y_1$ can now be interpreted as to be the total number of trials in a binomial trial. Thus, the new likelihood can be written as\n",
    "\n",
    "$$ p(y, z  \\vert  \\theta) \\propto \\binom{y_{1}}{z} \\left (\\frac{1}{2} \\right )^{y_1-z} \\left(\\frac{\\theta}{4} \\right )^{z}  (1-\\theta)^{y_2+y_3}  \\, \\theta^{y_4}\n",
    "$$"
   ]
  },
  {
   "cell_type": "markdown",
   "metadata": {},
   "source": [
    "Treat the augmented model as a latent variable model.\n",
    "\n",
    "Write down an expression (up to unimportant constants - you must decide what unimportant means) for each of the following:\n",
    "\n",
    "1.1. The observed data log likelihood $\\mathcal{l}(y \\ \\vert \\ \\theta)$\n",
    "\n",
    "1.2. The complete data log likelihood $\\mathcal{L}(y, z\\ \\vert \\ \\theta)$\n",
    "\n",
    "1.3. The Auxilary function, $Q(\\theta, \\theta^{(t-1)})$, or the expected complete data log likelihood, defined by\n",
    "\n",
    "$$Q(\\theta, \\theta^{(t-1)}) = \\mathbb{E}_{Z  \\vert  Y=y, \\Theta = \\theta^{t-1}}[\\mathcal{L}(y, z\\ \\vert \\ \\theta)]$$\n",
    "\n",
    "1.4. Find an expression for $\\theta^{t} = \\text{argmax}_\\theta Q(\\theta, \\theta^{(t-1)})$ by maximizing the Auxilary function $Q(\\theta, \\theta^{(t-1)})$ given $\\theta, \\theta^{t-1}$ to find the optimal value for $\\theta^{t}$.  \n",
    "\n",
    "**Hint:** You don't actually need to do any difficult optimization for the M-step. After taking the expectation of the complete data log likelihood in the E-step, match your $Q(\\theta, \\theta^{(t-1)})$ to the log pdf of a familiar distribution, then use the known formula for the mode of this distribution to optimize $Q(\\theta, \\theta^{(t-1)})$.\n",
    "\n",
    "1.5. Use your forumulas from 1.3 and 1.4 for $Q(\\theta, \\theta^{t-1})$ and $\\theta^{t}$ to calculate the maximum likelihood through Expectation Maximization (EM). In order to perform EM, you must iterate through the following steps\n",
    "\n",
    "- (Expectation) Compute the Auxilary function, $Q(\\theta, \\theta^{t-1})$ (the expectation of the full data likelihood)\n",
    "- (Maximization) Compute $\\theta^{t} = \\text{argmax}_\\theta Q(\\theta, \\theta^{(t-1)})$\n",
    "\n",
    "Choose your own reasonable criterion for convergence to **estimate the MLE** of $\\theta$ using EM.\n",
    "\n",
    "\n",
    "\n",
    "\n",
    "**Gratuitous Titular Reference**:  Canada recently became the second country in the world to [legalize marijuana](https://www.cnn.com/2018/06/20/health/canada-legalizes-marijuana/index.html).  [Purple Stuff](https://www.amazon.com/Purple-Stuff-Soda-Relaxation-Beverage/dp/B00FF4AXTE) is a health beverage available on Amazon with a name and taste that's a tip of the hat to [Purple Drank](https://en.wikipedia.org/wiki/Purple_drank), the codeine infused beverage also popularly known as *lean* and is synonymous with the Houston hip hop scene (and in particular DJ Screw and his famous Chopped and Screwed style)."
   ]
  },
  {
   "cell_type": "markdown",
   "metadata": {},
   "source": [
    "<div class=\"answer-separator\">\n",
    "------------------------\n",
    "</div>"
   ]
  },
  {
   "cell_type": "markdown",
   "metadata": {},
   "source": [
    "## Question 2: Predicting the Prior Like a Punch to the Kidneys "
   ]
  },
  {
   "cell_type": "markdown",
   "metadata": {},
   "source": [
    "**Some coding required**\n",
    "\n",
    "In this problem we will work with the US Kidney Cancer Dataset (by county), a dataset of kidney cancer frequencies across the US over 5 years on a per county basis. \n",
    "\n",
    "The kidney cancer data can be found [here](./kcancer.csv).\n",
    "\n",
    "A casual inspection of the data might suggest that we independently model cancer rates for each of the provided counties.  Our experience in past homeworks/labs/lectures (in particular when we delved into the Rat Tumors problem) suggests potential drawbacks of conclusions based on raw cancer rates.  Addressing these drawbacks, let's look use a Bayesian model for our analysis of the data. In particular you will implement an Empircal Bayes model to examine the adjusted cancer rates per county.\n",
    "\n",
    "Let $N$ be the number of counties; let $y_j$ the number of kidney cancer case for the $j$-th county, $n_j$ the population of the $j$-th county and $\\theta_j$ the underlying kidney cancer rate for that county. We can construct a Bayesian model for our data as follows:\n",
    "\\begin{aligned}\n",
    "y_j &\\sim Poisson(5 \\cdot n_j \\cdot \\theta_j), \\quad j = 1, \\ldots, N\\\\\n",
    "\\theta_j &\\sim Gamma(\\alpha, \\beta), \\quad j = 1, \\ldots, N\n",
    "\\end{aligned}\n",
    "where $\\alpha, \\beta$ are hyper-parameters of the model.\n",
    "\n",
    "2.1. Consider the **prior-predictive** distribution (also called the evidence i.e. the denominator normalization in bayes theorem) of the model: $p(y) = \\int p(y \\vert \\theta) p(\\theta) d \\theta$. Why the prior-predictive? Because technically we \"haven't seen\" individual county data yet. And, our data are on the scale of $y$, not the rates $\\theta$. Write an expression for the negative binomial prior-predictive for this model.\n",
    "\n",
    "**Note:** Up until now we've had primarily thought about the posterior predictive: $\\int p( y \\vert \\theta) p(\\theta \\vert D) d\\theta$.  The posterior predictive and the prior predictive can be somewhat connected. In conjugate models such as ours, the two distributions have the same form.\n",
    "\n",
    "2.2. Implement Empirical Bayes via moment matching by matching the mean and the variance (central moments) of the negative binomial you calclated in 2.1 to the sample mean and variance from the data.  Find appropriate expressions/values for $\\alpha$ and $\\beta$. \n",
    "\n",
    "**Hint:** You need to be careful with the $5n_j$ multiplier.\n",
    "\n",
    "2.3. Use the values of $\\alpha$ and $\\beta$ you derived in 2.2 to generate 5000 posterior samples for the kidney cancer rates for each county.  Use these samples to generate a posterior mean rate for each county.\n",
    "\n",
    "2.4. Produce a scatter plot of the raw cancer rates (pct mortality) vs the county population size. Highlight the top 300 raw cancer rates in red. Highlight the bottom 300 raw cancer rates in blue. Finally, on the same plot add a scatter plot visualization of the posterior mean cancer rate estimates (pct mortality) vs the county population size, highlight these in green.\n",
    "\n",
    "2.5. Using the above scatter plot, explain why using the posterior means from our model to estimate cancer rates is preferable to studying the raw rates themselves.\n",
    "\n",
    "**Hint:** You might also find it helpful to follow the Rat Tumor example.\n",
    "\n",
    "\n",
    "**Gratuitous Pop Culture Bayesian Reference**: \n",
    "\n",
    "![](https://www.explainxkcd.com/wiki/images/b/bd/modified_bayes_theorem.png)"
   ]
  },
  {
   "cell_type": "markdown",
   "metadata": {},
   "source": [
    "<div class=\"answer-separator\">\n",
    "------------------------\n",
    "</div>"
   ]
  },
  {
   "cell_type": "markdown",
   "metadata": {},
   "source": [
    "## Q2: Martin Garrix, Tiesto, Marshmello on the 1s and 2s.  Is that a Mixture of Experts?"
   ]
  },
  {
   "cell_type": "markdown",
   "metadata": {},
   "source": [
    "**Some coding required**\n",
    "\n",
    "What if you had to predict a one-to-many function? The data provided below comes from a dataset generated by Chris Bishop (yes that Bishop) to explain the models mentioned in the title above. We have included a pdf from his book which describe these models in some detail. This problem will continure in future homework where we shall learn to sample from this model and also how to solve it using mixture density networks.\n",
    "\n",
    "We read this data in..."
   ]
  },
  {
   "cell_type": "code",
   "execution_count": 2,
   "metadata": {},
   "outputs": [
    {
     "data": {
      "text/html": [
       "<div>\n",
       "<style scoped>\n",
       "    .dataframe tbody tr th:only-of-type {\n",
       "        vertical-align: middle;\n",
       "    }\n",
       "\n",
       "    .dataframe tbody tr th {\n",
       "        vertical-align: top;\n",
       "    }\n",
       "\n",
       "    .dataframe thead th {\n",
       "        text-align: right;\n",
       "    }\n",
       "</style>\n",
       "<table border=\"1\" class=\"dataframe\">\n",
       "  <thead>\n",
       "    <tr style=\"text-align: right;\">\n",
       "      <th></th>\n",
       "      <th>target</th>\n",
       "      <th>x</th>\n",
       "    </tr>\n",
       "  </thead>\n",
       "  <tbody>\n",
       "    <tr>\n",
       "      <th>0</th>\n",
       "      <td>0.000000</td>\n",
       "      <td>0.018727</td>\n",
       "    </tr>\n",
       "    <tr>\n",
       "      <th>1</th>\n",
       "      <td>0.001001</td>\n",
       "      <td>0.050424</td>\n",
       "    </tr>\n",
       "    <tr>\n",
       "      <th>2</th>\n",
       "      <td>0.002002</td>\n",
       "      <td>0.042375</td>\n",
       "    </tr>\n",
       "    <tr>\n",
       "      <th>3</th>\n",
       "      <td>0.003003</td>\n",
       "      <td>0.038596</td>\n",
       "    </tr>\n",
       "    <tr>\n",
       "      <th>4</th>\n",
       "      <td>0.004004</td>\n",
       "      <td>0.019352</td>\n",
       "    </tr>\n",
       "  </tbody>\n",
       "</table>\n",
       "</div>"
      ],
      "text/plain": [
       "     target         x\n",
       "0  0.000000  0.018727\n",
       "1  0.001001  0.050424\n",
       "2  0.002002  0.042375\n",
       "3  0.003003  0.038596\n",
       "4  0.004004  0.019352"
      ]
     },
     "execution_count": 2,
     "metadata": {},
     "output_type": "execute_result"
    }
   ],
   "source": [
    "df = pd.read_csv(\"one-to-many.csv\")\n",
    "df.head()"
   ]
  },
  {
   "cell_type": "markdown",
   "metadata": {},
   "source": [
    "...and then plot it. Notice both the uneven sampling (more towards the center), and the \"more than one y\" for a given x."
   ]
  },
  {
   "cell_type": "code",
   "execution_count": 2,
   "metadata": {},
   "outputs": [
    {
     "data": {
      "image/png": "[encoded data removed]",
      "text/plain": [
       "<Figure size 432x288 with 1 Axes>"
      ]
     },
     "metadata": {},
     "output_type": "display_data"
    }
   ],
   "source": [
    "plt.plot(df.x, df.target, '.');"
   ]
  },
  {
   "cell_type": "markdown",
   "metadata": {},
   "source": [
    "Normal regression approaches to modeling such a function wont work, as they expect the function to be a proper mathematical function, that is, single valued.\n",
    "\n",
    "These kind of problems are called **inverse problems**, where more than one input state leads to an output state, and we have to try and model these multiple input states."
   ]
  },
  {
   "cell_type": "markdown",
   "metadata": {},
   "source": [
    "A mixture of gaussians (or other distributions) might is a sensible way to do this.\n",
    "\n",
    "You choose one of the gaussians with some probability. The nean of the gaussian is then given by some regression function, say for example a straight line. We could additionally fix the standard deviation or model it as well. \n",
    "\n",
    "Thus, for each component Gaussian, we choose a functional form for the mean and standard deviation. So our model looks something like this:"
   ]
  },
  {
   "cell_type": "markdown",
   "metadata": {},
   "source": [
    "$$f(x)  = \\sum_i \\lambda_i g_i (x) $$\n",
    "\n",
    "Say we fit a model with 3 gaussians to this data. Such a model cannot fit the function above. Notice for example that at $x=0.2$ only one of the gaussians will dominate, different from the situation at $x=0.5$. This means that the probabilities of \"belonging\" to one or the other gaussians is also changing with $x$.\n",
    "\n",
    "If we allow the mixing probabilities to depend on $x$, we can model this situation.\n",
    "\n",
    "$$f(x)  = \\sum_i \\lambda_i (x) g_i (x) $$\n",
    "\n",
    "Such a model is called a \"mixture of experts\" model. The idea is that one \"expert\" gaussian is responsible in one sector of the feature space, while another expert is responsible in another sector.\n",
    "\n",
    "You can think of this model as implementing a \"standard\" gaussian mixture at each \"point\" x, with the added complexity that all of the means, standard deviations, and mixture probabilities change from one x to another.\n",
    "\n",
    "See https://www.cs.toronto.edu/~hinton/absps/hme.pdf and http://www.ee.hacettepe.edu.tr/~eyuksel/Publications/2012_TwentyYearsofMixtureofExperts.pdf for more details. I found the latter clearer and easier to understand.\n",
    "\n",
    "For this entire question you might find diagram code from [here](https://github.com/hardmaru/pytorch_notebooks/blob/master/mixture_density_networks.ipynb) useful. Take with attribution.\n",
    "\n",
    "We will assume we have **3 gaussians**."
   ]
  },
  {
   "cell_type": "markdown",
   "metadata": {},
   "source": [
    "### Iterative Linear Regression Mixture of Experts Model\n",
    "\n",
    "The basic idea, illustrated below, is to fit piecewise linear regressions iteratively in a EM style algorithm.\n",
    "\n",
    "![](https://piazza.com/redirect/s3?bucket=uploads&prefix=attach%2Fjlo4e4ari3r4wd%2Fj9vjyzv62x149%2Fjnsuyq59tar%2Fmixreg0.png)"
   ]
  },
  {
   "cell_type": "markdown",
   "metadata": {},
   "source": [
    "The algorithm looks like this: \n",
    "\n",
    "- Initialize the 1000 points in this dataset as randomly belonging to one of 3 \"classes\" or \"clusters\" or \"experts\". This takes a x-data problem and augments it with a fake z data point that tells us whether the point belongs in cluster 0, 1, or 2. (It helps convergence to say that points in the leftmost 0.2 belong to cluster 0 and righmost 0.2 to cluster 2).\n",
    "\n",
    "- With the fake z's in hand the 1000 points can be separated (based on cluster assignment) into 3 sets of points and used to fit 3 linear regression models. \n",
    "\n",
    "- Predictions can be made for all 1000 points on the data for each of the 3 regression lines. Reassign each data point to a cluster by choosing the cluster that minimizes the prediction error based on the squared distances between its actual y value and the 3 cluster predictions.\n",
    "\n",
    "- Rinse and repeat.\n",
    "\n",
    "3.1. We stated that \"*It helps convergence to say that points in the leftmost 0.2 belong to cluster 0 and righmost 0.2 to cluster 2*\".  Why might it help convergence to define an initial cluster assignment as opposed to random assignment?\n",
    "\n",
    "3.2. Specify a potential convergence criterion to use.  Why might you choose it?\n",
    "\n",
    "3.3. Implement the algorithm we described along with the convergence criterion you chose in 3.2.  You can use a linear regression fitter of your choice (statsmodels, sklearn, your own...).\n",
    "\n",
    "3.4. Apply your algorithm in the data in the `df` dataframe to produce a diagram like the one above which illustrates the straight line fits as well as the cluster belonging. \n"
   ]
  },
  {
   "cell_type": "markdown",
   "metadata": {},
   "source": [
    "**Note for those who want to read more** The mixture of experts can be implemented using Expectation Maximization using iteratively-reweighted least squares. Our method in A was merely an approximation to this process. You can find update equations [here](https://people.eecs.berkeley.edu/~jordan/papers/jordan-xu.ps)\n",
    "\n",
    "**Gratuitous Titular Reference**:  [DJs](https://martingarrix.com/), [DJs](https://www.tiesto.com/), [DJs](https://marshmellomusic.com/)."
   ]
  },
  {
   "cell_type": "markdown",
   "metadata": {},
   "source": [
    "<div class=\"answer-separator\">\n",
    "------------------------\n",
    "</div>"
   ]
  }
 ],
 "metadata": {
  "anaconda-cloud": {},
  "kernelspec": {
   "display_name": "Python 3",
   "language": "python",
   "name": "python3"
  },
  "language_info": {
   "codemirror_mode": {
    "name": "ipython",
    "version": 3
   },
   "file_extension": ".py",
   "mimetype": "text/x-python",
   "name": "python",
   "nbconvert_exporter": "python",
   "pygments_lexer": "ipython3",
   "version": "3.6.7rc1"
  }
 },
 "nbformat": 4,
 "nbformat_minor": 2
}
